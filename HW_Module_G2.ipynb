{
  "nbformat": 4,
  "nbformat_minor": 0,
  "metadata": {
    "colab": {
      "name": "HW_Module_G2.ipynb",
      "provenance": []
    },
    "kernelspec": {
      "name": "python3",
      "display_name": "Python 3"
    },
    "language_info": {
      "name": "python"
    }
  },
  "cells": [
    {
      "cell_type": "code",
      "execution_count": 1,
      "metadata": {
        "id": "3s0UEDOcx6ev"
      },
      "outputs": [],
      "source": [
        "import numpy as np\n",
        "\n",
        "# Added simpson's rule \n",
        "# function my_num_calc(f,a,b,n,option), \n",
        "# where the output I is the numerical integral of f, a function object, \n",
        "# computed on a grid of n evenly spaced points starting at a and ending at b. \n",
        "# The integration method used should be one of the following strings \n",
        "# defined by option: 'simp'\n",
        "\n",
        "\n",
        "def my_num_calc(f, a, b, n, option):\n",
        "\n",
        "  if option == 'simp':\n",
        "    h = (b - a) / (n - 1)\n",
        "    x = np.linspace(a, b, n)\n",
        "    f = f(x)\n",
        "    I = (h/3) * (f[0] + 2*sum(f[:n-2:2]) \\\n",
        "            + 4*sum(f[1:n-1:2]) + f[n-1])\n",
        "    return I\n",
        "\n",
        "  else:\n",
        "    return None"
      ]
    },
    {
      "cell_type": "code",
      "source": [
        "# Testing \n",
        "f = lambda x: x**2\n",
        "\n",
        "print(f'Simpson\\'s Method -> Numerical Integral of x**2 computed on {3} evenly spaced points between {0} and {1} is {my_num_calc(f, 0, 1, 3, \"simp\")}')\n",
        "print(f'Simpson\\'s Method -> Numerical Integral of x**2 computed on {100} evenly spaced points between {0} and {1} is {my_num_calc(f, 0, 1, 100, \"simp\")}')\n",
        "print(f'Simpson\\'s Method -> Numerical Integral of x**2 computed on {1000} evenly spaced points between {0} and {1} is {my_num_calc(f, 0, 1, 1000, \"simp\")}')"
      ],
      "metadata": {
        "colab": {
          "base_uri": "https://localhost:8080/"
        },
        "id": "3Y33B2uNQwBt",
        "outputId": "2c6e39df-0263-41d5-c2b2-fc5128dce66e"
      },
      "execution_count": 2,
      "outputs": [
        {
          "output_type": "stream",
          "name": "stdout",
          "text": [
            "Simpson's Method -> Numerical Integral of x**2 computed on 3 evenly spaced points between 0 and 1 is 0.3333333333333333\n",
            "Simpson's Method -> Numerical Integral of x**2 computed on 100 evenly spaced points between 0 and 1 is 0.3234016868339897\n",
            "Simpson's Method -> Numerical Integral of x**2 computed on 1000 evenly spaced points between 0 and 1 is 0.3323340016686683\n"
          ]
        }
      ]
    },
    {
      "cell_type": "code",
      "source": [
        "# Added Simpsons method to my_int_calc function\n",
        "# Function my_int_calc(f,f0,a,b,N,option), where f is a function object, \n",
        "# a and b are scalars such that a < b, N is a positive integer, and \n",
        "# option is the string ‘simp’. Let x be an array starting at a, ending at b, \n",
        "# containing N evenly spaced elements. The output argument, I, should be an approximation \n",
        "# to the integral of f(x), with initial condition f0, computed according to the \n",
        "# input argument, option.\n",
        "\n",
        "def my_int_calc(f, f0, a, b, n, option):\n",
        "\n",
        "  if option == 'simp':\n",
        "\n",
        "    h = f0\n",
        "    x = np.linspace(a, b, n)\n",
        "    f = f(x)\n",
        "    I = (h/3) * (f[0] + 2*sum(f[:n-2:2]) \\\n",
        "            + 4*sum(f[1:n-1:2]) + f[n-1])\n",
        "    return I\n",
        "\n",
        "  else:\n",
        "    return None"
      ],
      "metadata": {
        "id": "WDfWNDJLW7R5"
      },
      "execution_count": 3,
      "outputs": []
    },
    {
      "cell_type": "code",
      "source": [
        "# Testing \n",
        "f = lambda x: x**2\n",
        "\n",
        "print(f'Simpson\\'s Method -> Integral of x**2 with initial condition {0.1667} computed on {6} evenly spaced points between {0} and {1} is {my_int_calc(f, 0.1667, 0, 1, 6, \"simp\")}')"
      ],
      "metadata": {
        "colab": {
          "base_uri": "https://localhost:8080/"
        },
        "id": "36TV-zFuVak_",
        "outputId": "80f5fac3-2a89-4afe-a9c9-a495912b68ce"
      },
      "execution_count": 4,
      "outputs": [
        {
          "output_type": "stream",
          "name": "stdout",
          "text": [
            "Simpson's Method -> Integral of x**2 with initial condition 0.1667 computed on 6 evenly spaced points between 0 and 1 is 0.16225466666666669\n"
          ]
        }
      ]
    },
    {
      "cell_type": "code",
      "source": [
        ""
      ],
      "metadata": {
        "id": "3K8Gnj4oZqsG"
      },
      "execution_count": null,
      "outputs": []
    }
  ]
}