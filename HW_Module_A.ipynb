{
  "nbformat": 4,
  "nbformat_minor": 0,
  "metadata": {
    "colab": {
      "name": "Untitled0.ipynb",
      "provenance": []
    },
    "kernelspec": {
      "name": "python3",
      "display_name": "Python 3"
    },
    "language_info": {
      "name": "python"
    }
  },
  "cells": [
    {
      "cell_type": "code",
      "execution_count": 1,
      "metadata": {
        "colab": {
          "base_uri": "https://localhost:8080/"
        },
        "id": "wOzab2ADUk-W",
        "outputId": "b37d08bf-8050-4662-fdc6-0fc0cf4d6e3f"
      },
      "outputs": [
        {
          "output_type": "stream",
          "name": "stdout",
          "text": [
            "5\n",
            "True\n",
            "-------------------\n",
            "85\n",
            "True\n",
            "-------------------\n",
            "33554431\n",
            "True\n",
            "-------------------\n"
          ]
        }
      ],
      "source": [
        "# Problem 1\n",
        "# Function to convert Binary (Base-2) to Decimal (Base-10) number\n",
        "# Parameter {num = representation of 1's and 0's as array } e.g. [1, 0, 1] == 5\n",
        "\n",
        "def bin2dec(num):\n",
        "  dec = 0\n",
        "  pow = 0\n",
        "  for i in range(1, len(num) + 1):\n",
        "    if num[-i] == 1:\n",
        "      dec += 2 ** pow\n",
        "    pow += 1\n",
        "  return dec\n",
        "\n",
        "# Testing of bin2dec function\n",
        "print(bin2dec([1, 0, 1])) # Should print 5\n",
        "print(bin2dec([1, 0, 1]) == 5) # Should be True\n",
        "print('-------------------')\n",
        "print(bin2dec([1, 0, 1, 0, 1, 0, 1])) # Should print 85\n",
        "print(bin2dec([1, 0, 1, 0, 1, 0, 1]) == 85) # Should print True\n",
        "print('-------------------')\n",
        "print(bin2dec([1] * 25)) # Should print 33554431\n",
        "print(bin2dec([1] * 25) == 33554431) # Should print True\n",
        "print('-------------------')"
      ]
    },
    {
      "cell_type": "code",
      "source": [
        "# Problem 2\n",
        "# Function to convert Decimal (Base-10) to Binary (Base-2) number\n",
        "# Parameter {num = any base-10 number } e.g. 234\n",
        "\n",
        "def dec2bin(num):\n",
        "  bin = []\n",
        "  while num > 0:\n",
        "    # Here using int() __ we don't need any fractional-part (after decimal-point)\n",
        "    bin.append(int(num % 2)) # reminder of division by 2\n",
        "    num = int(num/2)\n",
        "  bin.reverse()\n",
        "  return bin\n",
        "\n",
        "# Testing of dec2bin function\n",
        "print(dec2bin(5)) # Should print [1, 0, 1]\n",
        "print(dec2bin(5) == [1, 0, 1]) # Should be True\n",
        "print('-------------------')\n",
        "print(dec2bin(85)) # Should print [1, 0, 1, 0, 1, 0, 1]\n",
        "print(dec2bin(85) == [1, 0, 1, 0, 1, 0, 1]) # Should print True\n",
        "print('-------------------')\n",
        "print(dec2bin(33554431)) # Should print [1] * 25 __ [1] 25 times in array on each index \n",
        "print(dec2bin(33554431) == [1]*25) # Should print True\n",
        "print('-------------------')"
      ],
      "metadata": {
        "colab": {
          "base_uri": "https://localhost:8080/"
        },
        "id": "JJXBwWqGXK_k",
        "outputId": "ad463ae4-0074-4a58-f751-1a411b3bb102"
      },
      "execution_count": 2,
      "outputs": [
        {
          "output_type": "stream",
          "name": "stdout",
          "text": [
            "[1, 0, 1]\n",
            "True\n",
            "-------------------\n",
            "[1, 0, 1, 0, 1, 0, 1]\n",
            "True\n",
            "-------------------\n",
            "[1, 1, 1, 1, 1, 1, 1, 1, 1, 1, 1, 1, 1, 1, 1, 1, 1, 1, 1, 1, 1, 1, 1, 1, 1]\n",
            "True\n",
            "-------------------\n"
          ]
        }
      ]
    },
    {
      "cell_type": "code",
      "source": [
        "# Testing Both dec2bin and bin2dec \n",
        "# Output should be the same number 33\n",
        "print(bin2dec(dec2bin(33)))"
      ],
      "metadata": {
        "colab": {
          "base_uri": "https://localhost:8080/"
        },
        "id": "dHruVhzgaRiP",
        "outputId": "bdc495aa-0212-4e2b-f398-1013a569797f"
      },
      "execution_count": null,
      "outputs": [
        {
          "output_type": "stream",
          "name": "stdout",
          "text": [
            "33\n"
          ]
        }
      ]
    },
    {
      "cell_type": "code",
      "source": [
        "# Problem 3\n",
        "# Function to convert IEEE-754 to Decimal (Base-10) number\n",
        "# # Parameter {num = any IEEE-754 number in string form } e.g. '0100000000101110000000000000000000000000000000000000000000000000' == 15.0\n",
        "\n",
        "def ieee2dec(num):\n",
        "  sign = num[0]\n",
        "  exponent = num[1:12]\n",
        "  fraction = num[12:]\n",
        "  dec = bin2dec([int(x) for x in exponent]) - 1023\n",
        "  dec = 2 ** dec\n",
        "  frac = 1\n",
        "  i = 1\n",
        "  for digit in fraction:\n",
        "    if digit == '1':\n",
        "      frac += (1 / (2**i))\n",
        "    i += 1\n",
        "\n",
        "  if sign == '1':\n",
        "    return -1*dec*frac\n",
        "  return dec*frac\n",
        "\n",
        "# Testing ieee2dec function\n",
        "print(ieee2dec('0100000000101110000000000000000000000000000000000000000000000000')) # Should print 15.0\n",
        "print(ieee2dec('0100000000101110000000000000000000000000000000000000000000000000') == 15.0) # Should print True\n",
        "print('--------------------')\n",
        "# Testing fractions using round\n",
        "print(ieee2dec('0100000000101101111111111111111111111111111111111111111111111111')) # Should print 14.999999999999998\n",
        "print(ieee2dec('0100000000101101111111111111111111111111111111111111111111111111') == 14.9) # Should print False\n",
        "print(round(ieee2dec('0100000000101101111111111111111111111111111111111111111111111111'), 1) == 15.0) # Should print True as we rounded off the result\n"
      ],
      "metadata": {
        "colab": {
          "base_uri": "https://localhost:8080/"
        },
        "id": "zueXnrwRc6cl",
        "outputId": "6feb04ee-b58b-482e-9386-2ec8df49d024"
      },
      "execution_count": 40,
      "outputs": [
        {
          "output_type": "stream",
          "name": "stdout",
          "text": [
            "15.0\n",
            "True\n",
            "--------------------\n",
            "14.999999999999998\n",
            "False\n",
            "True\n"
          ]
        }
      ]
    },
    {
      "cell_type": "code",
      "source": [
        "# Problem 4\n",
        "# Function to convert Decimal (Base-10) to IEEE-754 number\n",
        "# # Parameter {num = any decimal number } e.g. 15.0\n",
        "\n",
        "def dec2ieee(num):\n",
        "  ieee = ''\n",
        "  # sign bit\n",
        "  ieee += '1' if num < 0 else '0'\n",
        "  # exponent bits\n",
        "  num = abs(num)\n",
        "  dec = 0\n",
        "  i = 0\n",
        "  while True:\n",
        "    if 2 ** i > num:\n",
        "      dec = i - 1\n",
        "      i = dec\n",
        "      dec += 1023       \n",
        "      break\n",
        "    i += 1\n",
        "  dec = dec2bin(dec)\n",
        "  dec = [str(x) for x in dec]\n",
        "  ieee += ''.join(dec)\n",
        "  # fractional bits\n",
        "  for x in range(0, 52):\n",
        "    ieee += '1' if x < i else '0'\n",
        "\n",
        "  return ieee\n",
        "\n",
        "# Testing dec2ieee function\n",
        "print(dec2ieee(15.0)) # Should print '0100000000101110000000000000000000000000000000000000000000000000'\n",
        "print(dec2ieee(15.0) == '0100000000101110000000000000000000000000000000000000000000000000') # Should print True\n",
        "print('--------------------')"
      ],
      "metadata": {
        "id": "SgGBRzrddLA7",
        "colab": {
          "base_uri": "https://localhost:8080/"
        },
        "outputId": "e95b9519-47a1-4f59-bdf3-96caee68bfe5"
      },
      "execution_count": 43,
      "outputs": [
        {
          "output_type": "stream",
          "name": "stdout",
          "text": [
            "0100000000101110000000000000000000000000000000000000000000000000\n",
            "True\n",
            "--------------------\n"
          ]
        }
      ]
    },
    {
      "cell_type": "code",
      "source": [
        "# Testing Both dec2ieee and ieee2dec \n",
        "# Output should be the same number 15.0\n",
        "print(ieee2dec(dec2ieee(15.0)))"
      ],
      "metadata": {
        "colab": {
          "base_uri": "https://localhost:8080/"
        },
        "id": "QQIj8b_XmmiL",
        "outputId": "e928479b-eb2b-4db7-c71b-cdee84625a84"
      },
      "execution_count": 44,
      "outputs": [
        {
          "output_type": "stream",
          "name": "stdout",
          "text": [
            "15.0\n"
          ]
        }
      ]
    },
    {
      "cell_type": "code",
      "source": [
        ""
      ],
      "metadata": {
        "id": "2MA73OiMwB8L"
      },
      "execution_count": null,
      "outputs": []
    }
  ]
}