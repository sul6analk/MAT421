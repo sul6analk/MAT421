{
  "nbformat": 4,
  "nbformat_minor": 0,
  "metadata": {
    "colab": {
      "name": "HW_Module_D.ipynb",
      "provenance": []
    },
    "kernelspec": {
      "name": "python3",
      "display_name": "Python 3"
    },
    "language_info": {
      "name": "python"
    }
  },
  "cells": [
    {
      "cell_type": "code",
      "execution_count": 1,
      "metadata": {
        "id": "sJdLKFUQhznV"
      },
      "outputs": [],
      "source": [
        "import numpy as np\n",
        "import math\n",
        "\n",
        "def unit_vector(vector):\n",
        "    \"\"\" Returns the unit vector of the vector.  \"\"\"\n",
        "    return vector / np.linalg.norm(vector)\n",
        "\n",
        "def angle_between(v1, v2):\n",
        "    \"\"\" Returns the angle in radians between vectors 'v1' and 'v2'::\n",
        "            >>> angle_between((1, 0, 0), (0, 1, 0))\n",
        "            1.5707963267948966\n",
        "    \"\"\"\n",
        "    a, b = [], []\n",
        "    for e in range(len(v1)):\n",
        "      a.append(v1[e][0])\n",
        "      b.append(v2[e][0])\n",
        "    v1, v2 = tuple(a), tuple(b)\n",
        "    v1_u = unit_vector(v1)\n",
        "    v2_u = unit_vector(v2)\n",
        "    return np.arccos(np.clip(np.dot(v1_u, v2_u), -1.0, 1.0))\n",
        "\n",
        "def my_is_orthogonal(v1, v2, tol):\n",
        "  \"\"\" \n",
        "    Return 1 if the angle between v1 and v2 is within tol of π/2; \n",
        "    that is, |π/2−θ|<tol, and 0 otherwise\n",
        "  \"\"\"\n",
        "  angle = angle_between(v1, v2)\n",
        "  if abs((math.pi/2) - angle) < tol:\n",
        "    return 1\n",
        "  return 0"
      ]
    },
    {
      "cell_type": "code",
      "source": [
        "# Test cases for problem 2\n",
        "a = np.array([[1], [0.001]])\n",
        "b = np.array([[0.001], [1]])\n",
        "# output: 1\n",
        "print(my_is_orthogonal(a,b, 0.01))\n",
        "\n",
        "# output: 0\n",
        "print(my_is_orthogonal(a,b, 0.001))\n",
        "\n",
        "# output: 0\n",
        "a = np.array([[1], [0.001]])\n",
        "b = np.array([[1], [1]])\n",
        "print(my_is_orthogonal(a,b, 0.01))\n",
        "\n",
        "# output: 1\n",
        "a = np.array([[1], [1]])\n",
        "b = np.array([[-1], [1]])\n",
        "print(my_is_orthogonal(a,b, 1e-10))"
      ],
      "metadata": {
        "colab": {
          "base_uri": "https://localhost:8080/"
        },
        "id": "JIpQ2d8ph3VS",
        "outputId": "6721761a-6bff-4ec6-f88f-4270e467bd1a"
      },
      "execution_count": 2,
      "outputs": [
        {
          "output_type": "stream",
          "name": "stdout",
          "text": [
            "1\n",
            "0\n",
            "0\n",
            "1\n"
          ]
        }
      ]
    },
    {
      "cell_type": "code",
      "source": [
        "def determinant(A):\n",
        "    \"\"\"\n",
        "      Return Determinent of Matrix without using numpy methods using cramers rule   \n",
        "    \"\"\"\n",
        "    n = len(A)\n",
        "    AM = A.copy()\n",
        "    for fd in range(n): \n",
        "        for i in range(fd+1,n): \n",
        "            if AM[fd][fd] == 0: \n",
        "                AM[fd][fd] = 1.0e-18 \n",
        "            crScaler = AM[i][fd] / AM[fd][fd] \n",
        "            for j in range(n): \n",
        "                AM[i][j] = AM[i][j] - crScaler * AM[fd][j]     \n",
        "    product = 1.0\n",
        "    for i in range(n):\n",
        "        product *= AM[i][i]  \n",
        "    return product  "
      ],
      "metadata": {
        "id": "Xe4MQqRBh-cy"
      },
      "execution_count": 3,
      "outputs": []
    },
    {
      "cell_type": "code",
      "source": [
        "A = [[-2,2,-3],[-1,1,3],[2,0,-1]]\n",
        "print(determinant(A)) # 18"
      ],
      "metadata": {
        "colab": {
          "base_uri": "https://localhost:8080/"
        },
        "id": "Zbw7YjgTngUo",
        "outputId": "8887abf2-ee0f-4450-e8d3-ff25aa480de3"
      },
      "execution_count": 4,
      "outputs": [
        {
          "output_type": "stream",
          "name": "stdout",
          "text": [
            "18.0\n"
          ]
        }
      ]
    },
    {
      "cell_type": "code",
      "source": [
        "A = [[1,2,3,4,1],[8,5,6,7,2],[9,12,10,11,3],[13,14,16,15,4],[10,8,6,4,2]]\n",
        "print(round(determinant(A), 3)) # -240"
      ],
      "metadata": {
        "colab": {
          "base_uri": "https://localhost:8080/"
        },
        "id": "66SfrIH_uEvY",
        "outputId": "f8d7e4db-f68f-4f69-c529-42aa8cf92a53"
      },
      "execution_count": 5,
      "outputs": [
        {
          "output_type": "stream",
          "name": "stdout",
          "text": [
            "-240.0\n"
          ]
        }
      ]
    },
    {
      "cell_type": "code",
      "source": [
        ""
      ],
      "metadata": {
        "id": "wc3vJnsIvsLO"
      },
      "execution_count": 5,
      "outputs": []
    }
  ]
}