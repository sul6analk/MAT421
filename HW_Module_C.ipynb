{
  "nbformat": 4,
  "nbformat_minor": 0,
  "metadata": {
    "colab": {
      "name": "HW_Module_C.ipynb",
      "provenance": []
    },
    "kernelspec": {
      "name": "python3",
      "display_name": "Python 3"
    },
    "language_info": {
      "name": "python"
    }
  },
  "cells": [
    {
      "cell_type": "code",
      "execution_count": 9,
      "metadata": {
        "colab": {
          "base_uri": "https://localhost:8080/"
        },
        "id": "X9Su-Qr8bA67",
        "outputId": "9a45ec8a-6dcf-4db9-b19a-5094e39971ca"
      },
      "outputs": [
        {
          "output_type": "stream",
          "name": "stdout",
          "text": [
            "R -> [1.0, 1.5, 1.25, 1.375, 1.4375]\n",
            "E -> [1.0, 0.25, 0.4375, 0.109375, 0.06640625]\n"
          ]
        }
      ],
      "source": [
        "# Fixed Point Function\n",
        "# f is the function\n",
        "# a,b are the scalar values i.e. a < b\n",
        "# tol is tolerance value (positive)\n",
        "import numpy as np\n",
        "\n",
        "\n",
        "def my_bisection(f, a, b, tol): \n",
        "  R, E = [], []\n",
        "  while True:\n",
        "    m = (a + b)/2\n",
        "    R.append(m)\n",
        "    E.append(np.abs(f(m)))\n",
        "    if np.abs(f(m)) < tol:\n",
        "        return R, E\n",
        "    elif np.sign(f(a)) == np.sign(f(m)):\n",
        "        a = m\n",
        "    elif np.sign(f(b)) == np.sign(f(m)):\n",
        "        b = m\n",
        "\n",
        "f = lambda x: x**2 - 2 # f(x) = x^2 - 2\n",
        "\n",
        "[R, E] = my_bisection(f, 0, 2, 1e-1) # 1.4375 Answer\n",
        "\n",
        "# array, R, where R[i] is the estimation of the root of f defined by (a+b)/2 \n",
        "# array, E, where E[i] is the value of |f(R[i])| for the i-th iteration of the bisection method\n",
        "\n",
        "print(f'R -> {R}')\n",
        "print(f'E -> {E}')\n",
        "\n"
      ]
    },
    {
      "cell_type": "code",
      "source": [
        "# Newton Rapshon Method\n",
        "# where f is a function object, df is a function object to the derivative of f\n",
        "# x0 is an initial estimation of the root, and tol is a strictly positive scalar\n",
        "\n",
        "def my_newton(f, df, x0, tol):\n",
        "  R, E = [], []\n",
        "  while True:\n",
        "    R.append(x0)\n",
        "    E.append(abs(f(x0)))\n",
        "    if abs(f(x0)) < tol:\n",
        "        return R, E\n",
        "    else:\n",
        "      x0 = x0 - f(x0)/df(x0)\n",
        "\n",
        "f = lambda x: x**2 - 2\n",
        "df = lambda x: 2*x\n",
        "[R, E] = my_newton(f, df, 1, 1e-5)\n",
        "\n",
        "# an array, R, where R[i)] is the Newton-Raphson estimation of the root of f for the i-th iteration.\n",
        "# an array, E, where E[i] is the value of |f(R[i])| for the i-th iteration of the Newton-Raphson method.\n",
        "\n",
        "print(f'R -> {R}')\n",
        "print(f'E -> {E}')"
      ],
      "metadata": {
        "colab": {
          "base_uri": "https://localhost:8080/"
        },
        "id": "ibUw0fnRniFn",
        "outputId": "88ffb5de-c02c-4c84-9ce7-5525fbfcd463"
      },
      "execution_count": 12,
      "outputs": [
        {
          "output_type": "stream",
          "name": "stdout",
          "text": [
            "R -> [1, 1.5, 1.4166666666666667, 1.4142156862745099]\n",
            "E -> [1, 0.25, 0.006944444444444642, 6.007304882871267e-06]\n"
          ]
        }
      ]
    },
    {
      "cell_type": "code",
      "source": [
        ""
      ],
      "metadata": {
        "id": "IQ9TGNkErSKR"
      },
      "execution_count": null,
      "outputs": []
    }
  ]
}