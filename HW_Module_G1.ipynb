{
  "nbformat": 4,
  "nbformat_minor": 0,
  "metadata": {
    "colab": {
      "name": "Untitled5.ipynb",
      "provenance": []
    },
    "kernelspec": {
      "name": "python3",
      "display_name": "Python 3"
    },
    "language_info": {
      "name": "python"
    }
  },
  "cells": [
    {
      "cell_type": "code",
      "execution_count": 5,
      "metadata": {
        "id": "3s0UEDOcx6ev"
      },
      "outputs": [],
      "source": [
        "import numpy as np\n",
        "\n",
        "\n",
        "# function my_num_calc(f,a,b,n,option), \n",
        "# where the output I is the numerical integral of f, a function object, \n",
        "# computed on a grid of n evenly spaced points starting at a and ending at b. \n",
        "# The integration method used should be one of the following strings \n",
        "# defined by option: ‘rect’, ‘trap’.\n",
        "\n",
        "\n",
        "def my_num_calc(f, a, b, n, option):\n",
        "\n",
        "  if option == 'rect':\n",
        "\n",
        "    h = (b - a) / (n - 1)\n",
        "    x = np.linspace(a, b, n)\n",
        "    f = f(x)\n",
        "    I = h * sum(f[1::])\n",
        "    return I\n",
        "\n",
        "  elif option == 'trap':\n",
        "\n",
        "    h = (b - a) / (n - 1)\n",
        "    x = np.linspace(a, b, n)\n",
        "    f = f(x)\n",
        "    I = (h/2)*(f[0] + 2 * sum(f[1:n-1]) + f[n-1])\n",
        "    return I\n",
        "\n",
        "  else:\n",
        "    return None"
      ]
    },
    {
      "cell_type": "code",
      "source": [
        "# Testing \n",
        "f = lambda x: x**2\n",
        "\n",
        "print(f'Rectangle Method -> Numerical Integral of x**2 computed on {3} evenly spaced points between {0} and {1} is {my_num_calc(f, 0, 1, 3, \"rect\")}')\n",
        "print(f'Rectangle Method -> Numerical Integral of x**2 computed on {100} evenly spaced points between {0} and {1} is {my_num_calc(f, 0, 1, 100, \"rect\")}')\n",
        "print(f'Rectangle Method -> Numerical Integral of x**2 computed on {1000} evenly spaced points between {0} and {1} is {my_num_calc(f, 0, 1, 1000, \"rect\")}')\n",
        "\n",
        "print(f'Trapezium Method -> Numerical Integral of x**2 computed on {3} evenly spaced points between {0} and {1} is {my_num_calc(f, 0, 1, 3, \"trap\")}')\n",
        "print(f'Trapezium Method -> Numerical Integral of x**2 computed on {100} evenly spaced points between {0} and {1} is {my_num_calc(f, 0, 1, 100, \"trap\")}')\n",
        "print(f'Trapezium Method -> Numerical Integral of x**2 computed on {1000} evenly spaced points between {0} and {1} is {my_num_calc(f, 0, 1, 1000, \"trap\")}')"
      ],
      "metadata": {
        "colab": {
          "base_uri": "https://localhost:8080/"
        },
        "id": "3Y33B2uNQwBt",
        "outputId": "79a013f9-af49-45e7-b421-afbbc4e17ef1"
      },
      "execution_count": 13,
      "outputs": [
        {
          "output_type": "stream",
          "name": "stdout",
          "text": [
            "Rectangle Method -> Numerical Integral of x**2 computed on 3 evenly spaced points between 0 and 1 is 0.625\n",
            "Rectangle Method -> Numerical Integral of x**2 computed on 100 evenly spaced points between 0 and 1 is 0.3384008434513486\n",
            "Rectangle Method -> Numerical Integral of x**2 computed on 1000 evenly spaced points between 0 and 1 is 0.3338340008343344\n",
            "Trapezium Method -> Numerical Integral of x**2 computed on 3 evenly spaced points between 0 and 1 is 0.375\n",
            "Trapezium Method -> Numerical Integral of x**2 computed on 100 evenly spaced points between 0 and 1 is 0.33335033840084355\n",
            "Trapezium Method -> Numerical Integral of x**2 computed on 1000 evenly spaced points between 0 and 1 is 0.3333335003338339\n"
          ]
        }
      ]
    },
    {
      "cell_type": "code",
      "source": [
        "\n",
        "# Function my_int_calc(f,f0,a,b,N,option), where f is a function object, \n",
        "# a and b are scalars such that a < b, N is a positive integer, and \n",
        "# option is the string ‘rect’, ‘trap’. Let x be an array starting at a, ending at b, \n",
        "# containing N evenly spaced elements. The output argument, I, should be an approximation \n",
        "# to the integral of f(x), with initial condition f0, computed according to the \n",
        "# input argument, option.\n",
        "\n",
        "def my_int_calc(f, f0, a, b, n, option):\n",
        "\n",
        "  if option == 'rect':\n",
        "\n",
        "    h = f0\n",
        "    x = np.linspace(a, b, n)\n",
        "    f = f(x)\n",
        "    I = h * sum(f[1::])\n",
        "    return I\n",
        "\n",
        "  elif option == 'trap':\n",
        "\n",
        "    h = f0\n",
        "    x = np.linspace(a, b, n)\n",
        "    f = f(x)\n",
        "    I = (h/2)*(f[0] + 2 * sum(f[1:n-1]) + f[n-1])\n",
        "    return I\n",
        "\n",
        "  else:\n",
        "    return None"
      ],
      "metadata": {
        "id": "WDfWNDJLW7R5"
      },
      "execution_count": 14,
      "outputs": []
    },
    {
      "cell_type": "code",
      "source": [
        "# Testing \n",
        "f = lambda x: x**2\n",
        "\n",
        "print(f'Rectangle Method -> Integral of x**2 with initial condition {0.1667} computed on {6} evenly spaced points between {0} and {1} is {my_int_calc(f, 0.1667, 0, 1, 6, \"rect\")}')\n",
        "\n",
        "print(f'Trapezium Method -> Integral of x**2 with initial condition {0.1667} computed on {6} evenly spaced points between {0} and {1} is {my_int_calc(f, 0.1667, 0, 1, 6, \"trap\")}')\n"
      ],
      "metadata": {
        "colab": {
          "base_uri": "https://localhost:8080/"
        },
        "id": "36TV-zFuVak_",
        "outputId": "c52ae369-6547-4759-d097-855caf382df4"
      },
      "execution_count": 16,
      "outputs": [
        {
          "output_type": "stream",
          "name": "stdout",
          "text": [
            "Rectangle Method -> Integral of x**2 with initial condition 0.1667 computed on 6 evenly spaced points between 0 and 1 is 0.36674\n",
            "Trapezium Method -> Integral of x**2 with initial condition 0.1667 computed on 6 evenly spaced points between 0 and 1 is 0.28339000000000003\n"
          ]
        }
      ]
    },
    {
      "cell_type": "code",
      "source": [
        ""
      ],
      "metadata": {
        "id": "3K8Gnj4oZqsG"
      },
      "execution_count": null,
      "outputs": []
    }
  ]
}